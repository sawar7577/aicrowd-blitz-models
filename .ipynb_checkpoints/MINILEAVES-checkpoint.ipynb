{
 "cells": [
  {
   "cell_type": "code",
   "execution_count": 0,
   "metadata": {
    "colab": {},
    "colab_type": "code",
    "id": "7fSP6y6dFhGB"
   },
   "outputs": [],
   "source": [
    "import numpy as np\n",
    "import os\n",
    "import cv2\n",
    "import matplotlib.pyplot as plt\n",
    "\n",
    "import torch\n",
    "import torch.nn as nn\n",
    "import torch.optim as optim\n",
    "import torch.nn.functional as F"
   ]
  },
  {
   "cell_type": "code",
   "execution_count": 0,
   "metadata": {
    "colab": {
     "base_uri": "https://localhost:8080/",
     "height": 54
    },
    "colab_type": "code",
    "id": "hqS6ASRRfHNV",
    "outputId": "72072df2-c6b0-45b4-fa7b-197bebecfe9c"
   },
   "outputs": [
    {
     "name": "stdout",
     "output_type": "stream",
     "text": [
      "Drive already mounted at /content/drive; to attempt to forcibly remount, call drive.mount(\"/content/drive\", force_remount=True).\n"
     ]
    }
   ],
   "source": [
    "from google.colab import drive\n",
    "drive.mount('/content/drive')"
   ]
  },
  {
   "cell_type": "code",
   "execution_count": 0,
   "metadata": {
    "colab": {},
    "colab_type": "code",
    "id": "-4S7wWSWYeKF"
   },
   "outputs": [],
   "source": [
    "from torch.utils.data import TensorDataset, DataLoader, Dataset\n",
    "\n",
    "class data_files(Dataset):\n",
    "  def __init__(self, img_path, label_path, transforms=None, mode='train'):\n",
    "    super(Dataset, self).__init__()\n",
    "    self.img_path = img_path\n",
    "    self.images = np.load(self.img_path)\n",
    "    if mode == 'train':\n",
    "      self.label_path = label_path\n",
    "      self.labels = torch.from_numpy(np.load(self.label_path))\n",
    "\n",
    "    self.transforms = transforms\n",
    "    self.mode = mode\n",
    "\n",
    "  def __len__(self):\n",
    "    return self.images.shape[0]\n",
    "\n",
    "  def __getitem__(self, index):\n",
    "    img = self.images[index, ...]\n",
    "    if self.transforms != None:\n",
    "      img = self.transforms(img)\n",
    "    \n",
    "    if self.mode == 'train':\n",
    "      label = self.labels[index]\n",
    "      return img, label\n",
    "    elif self.mode == 'test':\n",
    "      return img\n",
    "  "
   ]
  },
  {
   "cell_type": "code",
   "execution_count": 0,
   "metadata": {
    "colab": {},
    "colab_type": "code",
    "id": "26orRO0YePtg"
   },
   "outputs": [],
   "source": [
    "import torchvision.transforms as transforms\n",
    "import torchvision\n",
    "\n",
    "img_transforms = transforms.Compose([\n",
    "                                    transforms.ToPILImage(),\n",
    "                                    transforms.RandomRotation(30),\n",
    "                                    transforms.ColorJitter(),\n",
    "                                    transforms.RandomHorizontalFlip(),\n",
    "                                    transforms.RandomVerticalFlip(),                             \n",
    "                                    transforms.ToTensor(),\n",
    "                                    transforms.Normalize([0.485, 0.456, 0.406], [0.229, 0.224, 0.225])\n",
    "                                  ])\n",
    "\n",
    "img_path = 'drive/My Drive/data/train-images.npy'\n",
    "label_path = 'drive/My Drive/data/train-labels.npy'"
   ]
  },
  {
   "cell_type": "code",
   "execution_count": 0,
   "metadata": {
    "colab": {},
    "colab_type": "code",
    "id": "59i__wUsf5xk"
   },
   "outputs": [],
   "source": [
    "dataset = data_files(img_path, label_path, transforms=img_transforms, mode='train') "
   ]
  },
  {
   "cell_type": "code",
   "execution_count": 0,
   "metadata": {
    "colab": {
     "base_uri": "https://localhost:8080/",
     "height": 34
    },
    "colab_type": "code",
    "id": "aGBdeRPXgYBo",
    "outputId": "a6816341-a277-4e37-d6d6-8bdd39b4c5a4"
   },
   "outputs": [
    {
     "data": {
      "text/plain": [
       "43466"
      ]
     },
     "execution_count": 72,
     "metadata": {
      "tags": []
     },
     "output_type": "execute_result"
    }
   ],
   "source": [
    "dataset.__len__()"
   ]
  },
  {
   "cell_type": "code",
   "execution_count": 0,
   "metadata": {
    "colab": {},
    "colab_type": "code",
    "id": "OTAx8rnpgvi9"
   },
   "outputs": [],
   "source": [
    "from torch.utils.data.sampler import SubsetRandomSampler\n",
    "\n",
    "# needed more data for training thus reduced validation split\n",
    "validation_split = .05\n",
    "shuffle_dataset = True\n",
    "random_seed= 42\n",
    "BATCH = 512\n",
    "\n",
    "# Creating data indices for training and validation splits:\n",
    "dataset_size = len(dataset)\n",
    "indices = list(range(dataset_size))\n",
    "split = int(np.floor(validation_split * dataset_size))\n",
    "if shuffle_dataset :\n",
    "    np.random.seed(random_seed)\n",
    "    np.random.shuffle(indices)\n",
    "train_indices, val_indices = indices[split:], indices[:split]\n",
    "\n",
    "# Creating PT data samplers and loaders:\n",
    "trainsampler = SubsetRandomSampler(train_indices)\n",
    "validsampler = SubsetRandomSampler(val_indices)\n",
    "\n",
    "trainloader = torch.utils.data.DataLoader(dataset, batch_size=BATCH, \n",
    "                                           sampler=trainsampler, num_workers=1)\n",
    "validloader = torch.utils.data.DataLoader(dataset, batch_size=BATCH,\n",
    "                                                sampler=validsampler, num_workers=1)"
   ]
  },
  {
   "cell_type": "code",
   "execution_count": 0,
   "metadata": {
    "colab": {},
    "colab_type": "code",
    "id": "BpHUFHbOhNxJ"
   },
   "outputs": [],
   "source": [
    "model = torchvision.models.densenet201(pretrained=True, progress=True)\n",
    "model.classifier = nn.Sequential(\n",
    "                         nn.Linear(in_features=1920, out_features=2048),\n",
    "                         nn.ReLU(True),\n",
    "                         nn.Dropout(p=0.2),\n",
    "                         nn.Linear(in_features=2048, out_features=38))\n",
    "model = model.cuda()"
   ]
  },
  {
   "cell_type": "code",
   "execution_count": 0,
   "metadata": {
    "colab": {},
    "colab_type": "code",
    "id": "y6yM7TrAhb2w"
   },
   "outputs": [],
   "source": [
    "criterion = nn.CrossEntropyLoss()\n",
    "optimizer = optim.Adam(model.parameters(), lr=0.0001)"
   ]
  },
  {
   "cell_type": "code",
   "execution_count": 0,
   "metadata": {
    "colab": {},
    "colab_type": "code",
    "id": "atA4yIndid7B"
   },
   "outputs": [],
   "source": [
    "def train(trainloader, model, criterion, optimizer):\n",
    "\n",
    "  model.train()\n",
    "\n",
    "  losses = 0\n",
    "  total = 0\n",
    "  correct = 0\n",
    "\n",
    "  for batch_idx, (inputs, targets) in enumerate(trainloader):\n",
    "    inputs, targets = inputs.cuda(), targets.cuda()\n",
    "    \n",
    "    outputs = model(inputs)\n",
    "    if batch_idx % 10 == 0:\n",
    "      print(batch_idx, losses)\n",
    "    \n",
    "    loss =  criterion(outputs, targets)\n",
    "\n",
    "    _, predicted = torch.max(outputs.data, 1)\n",
    "    \n",
    "    total += targets.size(0)\n",
    "    correct += (predicted == targets).sum()\n",
    "    losses += loss.item()*inputs.size(0)\n",
    "\n",
    "    optimizer.zero_grad()\n",
    "    loss.backward()\n",
    "    optimizer.step()\n",
    "  return (losses / total, 100.0 * correct / total)"
   ]
  },
  {
   "cell_type": "code",
   "execution_count": 0,
   "metadata": {
    "colab": {},
    "colab_type": "code",
    "id": "cVCMMUTki0a3"
   },
   "outputs": [],
   "source": [
    "def validate(validloader, model, criterion):\n",
    "  model.eval()\n",
    "\n",
    "  losses = 0\n",
    "  total = 0\n",
    "  correct = 0\n",
    "\n",
    "  with torch.no_grad():\n",
    "    for batch_idx, (inputs, targets) in enumerate(validloader):\n",
    "      inputs, targets = inputs.cuda(), targets.cuda()\n",
    "      \n",
    "      outputs = model(inputs)\n",
    "      loss =  criterion(outputs, targets)\n",
    "\n",
    "      _, predicted = torch.max(outputs.data, 1)\n",
    "      \n",
    "      total += targets.size(0)\n",
    "      correct += (predicted == targets).sum()\n",
    "      losses += loss.item()*inputs.size(0)\n",
    "    \n",
    "\n",
    "  return (losses / total, 100.0 * correct / total)"
   ]
  },
  {
   "cell_type": "code",
   "execution_count": 0,
   "metadata": {
    "colab": {},
    "colab_type": "code",
    "id": "UWkX8r1Fi2td"
   },
   "outputs": [],
   "source": [
    "NUM_EPOCHS = 4\n",
    "def run_model(trainloader, validloader, model, criterion, optimizer):\n",
    "  import time\n",
    "  train_losses = []\n",
    "  train_accuracy = []\n",
    "\n",
    "  valid_losses = []\n",
    "  valid_accuracy = []\n",
    "\n",
    "  for epoch in range(NUM_EPOCHS):\n",
    "    st = time.time()\n",
    "    tlosses, tacc = train(trainloader, model, criterion, optimizer)\n",
    "    # scheduler.step()/\n",
    "    vlosses, vacc = validate(validloader, model, criterion)\n",
    "    print('Epoch: {}:: train_loss: {}, train_accuracy: {} \\n valid_loss: {}, valid_accuracy: {}'.format(\n",
    "        epoch, tlosses, tacc,\n",
    "        vlosses, vacc\n",
    "    ))\n",
    "    train_losses.append(tlosses)\n",
    "    train_accuracy.append(tacc)\n",
    "    valid_losses.append(vlosses)\n",
    "    valid_accuracy.append(vacc)\n",
    "    \n",
    "    en = time.time()\n",
    "    print(\"epoch took:\", en - st)\n",
    "\n",
    "  return {\n",
    "      'train' : (train_losses, train_accuracy),\n",
    "      'val'  : (valid_losses, valid_accuracy),\n",
    "  }\n",
    "\n",
    "result = run_model(trainloader, validloader, model, criterion, optimizer)"
   ]
  },
  {
   "cell_type": "markdown",
   "metadata": {
    "colab_type": "text",
    "id": "EQI6L93xPMoD"
   },
   "source": [
    "Use color jitter augmentations for some epochs and then remove it from the augmentations and train some more"
   ]
  },
  {
   "cell_type": "code",
   "execution_count": 0,
   "metadata": {
    "colab": {},
    "colab_type": "code",
    "id": "RB7Nixcki94l"
   },
   "outputs": [],
   "source": [
    "torch.save(model.state_dict(), 'drive/My Drive/aicrowd_blitz/minileaves/model.pth')"
   ]
  },
  {
   "cell_type": "code",
   "execution_count": 0,
   "metadata": {
    "colab": {},
    "colab_type": "code",
    "id": "Cqwm75Tgu4P3"
   },
   "outputs": [],
   "source": [
    "model.eval()\n",
    "\n",
    "testset = data_files('drive/My Drive/data/test-images.npy', None, transforms=img_transforms, mode='test')\n",
    "testloader = torch.utils.data.DataLoader(testset, batch_size=512, \n",
    "                                           shuffle=False, num_workers=4)\n"
   ]
  },
  {
   "cell_type": "code",
   "execution_count": 0,
   "metadata": {
    "colab": {},
    "colab_type": "code",
    "id": "JG-VwomPEO7K"
   },
   "outputs": [],
   "source": [
    "model.eval()\n",
    "preds = []\n",
    "with torch.no_grad():\n",
    "    for images in testloader:\n",
    "        data = images.cuda()\n",
    "        outputs = model(data)\n",
    "        _, predicted = torch.max(outputs.data, 1)\n",
    "        pr = predicted.detach().cpu().numpy()\n",
    "        for i in pr:\n",
    "          preds.append(i)"
   ]
  },
  {
   "cell_type": "code",
   "execution_count": 0,
   "metadata": {
    "colab": {},
    "colab_type": "code",
    "id": "bzj_-58jHkVW"
   },
   "outputs": [],
   "source": [
    "import pandas as pd\n",
    "pd.DataFrame(np.array(preds)).to_csv('drive/My Drive/data/densenet201-submission.csv', header=['class_index'])"
   ]
  }
 ],
 "metadata": {
  "accelerator": "GPU",
  "colab": {
   "collapsed_sections": [],
   "name": "MINILEAVES.ipynb",
   "provenance": []
  },
  "kernelspec": {
   "display_name": "Python 3",
   "language": "python",
   "name": "python3"
  },
  "language_info": {
   "codemirror_mode": {
    "name": "ipython",
    "version": 3
   },
   "file_extension": ".py",
   "mimetype": "text/x-python",
   "name": "python",
   "nbconvert_exporter": "python",
   "pygments_lexer": "ipython3",
   "version": "3.7.4"
  }
 },
 "nbformat": 4,
 "nbformat_minor": 1
}
