{
 "cells": [
  {
   "cell_type": "code",
   "execution_count": 0,
   "metadata": {
    "colab": {},
    "colab_type": "code",
    "id": "d9U5p58ku6S8"
   },
   "outputs": [],
   "source": [
    "# !pip install -U scikit-learn\n",
    "\n",
    "import pandas as pd\n",
    "import numpy as np\n",
    "from sklearn.model_selection import train_test_split\n",
    "from sklearn.svm import SVC\n",
    "from sklearn.metrics import f1_score,precision_score,recall_score,accuracy_score\n",
    "from sklearn import preprocessing\n",
    "\n",
    "## SVM classifier will be used in this notebook\n",
    "## below are the imports of some of the other classifiers that can also be used\n",
    "\n",
    "# from sklearn.linear_model import LogisticRegression\n",
    "# from sklearn.neural_network import MLPClassifier\n",
    "# from sklearn.mixture import GaussianMixture\n",
    "# from sklearn.cluster import KMeans\n",
    "# from sklearn.naive_bayes import GaussianNB, MultinomialNB\n",
    "# from sklearn.ensemble import RandomForestClassifier, ExtraTreesClassifier\n",
    "# from sklearn.ensemble import BaggingClassifier, AdaBoostClassifier, GradientBoostingClassifier\n",
    "# from sklearn.preprocessing import StandardScaler\n",
    "# from sklearn.linear_model import RidgeClassifier\n",
    "# from sklearn.ensemble import VotingClassifier\n",
    "# from sklearn.neighbors import KNeighborsClassifier\n",
    "# from sklearn.discriminant_analysis import LinearDiscriminantAnalysis as LDA\n",
    "# from sklearn.linear_model import SGDClassifier\n",
    "# from sklearn.tree import DecisionTreeClassifier\n",
    "# from sklearn import linear_model\t\n",
    "# from lightgbm import LGBMClassifier"
   ]
  },
  {
   "cell_type": "code",
   "execution_count": 0,
   "metadata": {
    "colab": {},
    "colab_type": "code",
    "id": "XGP8GG7Dw-8I"
   },
   "outputs": [],
   "source": [
    "from google.colab import drive\n",
    "drive.mount('/content/drive')"
   ]
  },
  {
   "cell_type": "code",
   "execution_count": 0,
   "metadata": {
    "colab": {},
    "colab_type": "code",
    "id": "w5wPiPxYwP5H"
   },
   "outputs": [],
   "source": [
    "train_data_path = \"drive/My Drive/aicrowd_blitz/retina/train.csv\""
   ]
  },
  {
   "cell_type": "code",
   "execution_count": 0,
   "metadata": {
    "colab": {},
    "colab_type": "code",
    "id": "wyZbFZhExJaU"
   },
   "outputs": [],
   "source": [
    "train_data = pd.read_csv(train_data_path,header=None)\n",
    "print(train_data.shape)\n",
    "print(train_data.head())\n",
    "print(train_data.min(axis=0))\n",
    "print(train_data.max(axis=0))\n",
    "\n",
    "## column 19 is for the label, features 0,1,18 are boolean features\n",
    "print(train_data[[0,1,18,19]])"
   ]
  },
  {
   "cell_type": "code",
   "execution_count": 0,
   "metadata": {
    "colab": {},
    "colab_type": "code",
    "id": "ALcwKUcYxMQ8"
   },
   "outputs": [],
   "source": [
    "print(train_data.head())\n",
    "print(np.corrcoef(train_data.to_numpy().T)[:, 19])"
   ]
  },
  {
   "cell_type": "code",
   "execution_count": 0,
   "metadata": {
    "colab": {},
    "colab_type": "code",
    "id": "eJO0HbRjyHLm"
   },
   "outputs": [],
   "source": [
    "## validation size is taken as 0.1 of the total as there are already few data entries so thought reducing the validation size will be a good decision\n",
    "## the svm classifier was tried multiple times on different train and validation splits\n",
    "## sometimes it may give bad validation results, just try after running this cell again\n",
    "\n",
    "X_train, X_val= train_test_split(train_data, test_size=0.1)\n",
    "X_train,y_train = X_train.iloc[:,:-1], X_train.iloc[:,-1]\n",
    "X_val,y_val = X_val.iloc[:,:-1], X_val.iloc[:,-1]\n",
    "\n",
    "## the boolean features were dropped\n",
    "feats = [ i for i in range(2, 18) ]                                                       "
   ]
  },
  {
   "cell_type": "code",
   "execution_count": 0,
   "metadata": {
    "colab": {},
    "colab_type": "code",
    "id": "8RtPZ4Ep5wmN"
   },
   "outputs": [],
   "source": [
    "## linear kernel seem to give the best validation results on average\n",
    "\n",
    "clf =  SVC(kernel='linear')\n",
    "clf.fit(X_train[feats], y_train)\n",
    "y_pred = clf.predict(X_val[feats])\n",
    "precision = precision_score(y_val,y_pred,average='micro')\n",
    "recall = recall_score(y_val,y_pred,average='micro')\n",
    "accuracy = accuracy_score(y_val,y_pred)\n",
    "f1 = f1_score(y_val,y_pred,average='macro')\n",
    "\n",
    "print(\"Accuracy of the model is :\" ,accuracy)\n",
    "print(\"Recall of the model is :\" ,recall)\n",
    "print(\"Precision of the model is :\" ,precision)\n",
    "print(\"F1 score of the model is :\" ,f1)"
   ]
  },
  {
   "cell_type": "code",
   "execution_count": 0,
   "metadata": {
    "colab": {},
    "colab_type": "code",
    "id": "md-4Bmmp9_3b"
   },
   "outputs": [],
   "source": [
    "final_test_path = \"drive/My Drive/aicrowd_blitz/retina/test.csv\"\n",
    "final_test = pd.read_csv(final_test_path,header=None)"
   ]
  },
  {
   "cell_type": "code",
   "execution_count": 0,
   "metadata": {
    "colab": {},
    "colab_type": "code",
    "id": "2qDCJNxSHzaa"
   },
   "outputs": [],
   "source": [
    "submission = clf.predict(final_test[feats])"
   ]
  },
  {
   "cell_type": "code",
   "execution_count": 0,
   "metadata": {
    "colab": {},
    "colab_type": "code",
    "id": "iuaEfnUWIA1R"
   },
   "outputs": [],
   "source": [
    "submission = pd.DataFrame(submission)\n",
    "submission.to_csv('drive/My Drive/aicrowd_blitz/retina/svm-lin2.csv',header=['label'],index=False)"
   ]
  },
  {
   "cell_type": "code",
   "execution_count": 0,
   "metadata": {
    "colab": {},
    "colab_type": "code",
    "id": "vAGJyZnmLx3r"
   },
   "outputs": [],
   "source": []
  }
 ],
 "metadata": {
  "colab": {
   "collapsed_sections": [],
   "name": "DIBRD.ipynb",
   "provenance": []
  },
  "kernelspec": {
   "display_name": "Python 3",
   "language": "python",
   "name": "python3"
  },
  "language_info": {
   "codemirror_mode": {
    "name": "ipython",
    "version": 3
   },
   "file_extension": ".py",
   "mimetype": "text/x-python",
   "name": "python",
   "nbconvert_exporter": "python",
   "pygments_lexer": "ipython3",
   "version": "3.7.4"
  }
 },
 "nbformat": 4,
 "nbformat_minor": 1
}
