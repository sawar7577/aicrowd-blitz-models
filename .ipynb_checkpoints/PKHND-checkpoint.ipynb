{
 "cells": [
  {
   "cell_type": "code",
   "execution_count": 1,
   "metadata": {},
   "outputs": [],
   "source": [
    "import numpy as np\n",
    "import pandas as pd\n",
    "from sklearn.metrics import f1_score,precision_score,recall_score,accuracy_score\n",
    "from tqdm import tqdm"
   ]
  },
  {
   "cell_type": "code",
   "execution_count": 2,
   "metadata": {},
   "outputs": [],
   "source": [
    "train_data_path = '../pkhnd/99a27ff0-e213-4d84-a253-75f2dc1d4836_train/train.csv'"
   ]
  },
  {
   "cell_type": "code",
   "execution_count": 3,
   "metadata": {},
   "outputs": [],
   "source": [
    "train_data = pd.read_csv(train_data_path)"
   ]
  },
  {
   "cell_type": "code",
   "execution_count": 4,
   "metadata": {},
   "outputs": [
    {
     "data": {
      "text/html": [
       "<div>\n",
       "<style scoped>\n",
       "    .dataframe tbody tr th:only-of-type {\n",
       "        vertical-align: middle;\n",
       "    }\n",
       "\n",
       "    .dataframe tbody tr th {\n",
       "        vertical-align: top;\n",
       "    }\n",
       "\n",
       "    .dataframe thead th {\n",
       "        text-align: right;\n",
       "    }\n",
       "</style>\n",
       "<table border=\"1\" class=\"dataframe\">\n",
       "  <thead>\n",
       "    <tr style=\"text-align: right;\">\n",
       "      <th></th>\n",
       "      <th>S1</th>\n",
       "      <th>C1</th>\n",
       "      <th>S2</th>\n",
       "      <th>C2</th>\n",
       "      <th>S3</th>\n",
       "      <th>C3</th>\n",
       "      <th>S4</th>\n",
       "      <th>C4</th>\n",
       "      <th>S5</th>\n",
       "      <th>C5</th>\n",
       "      <th>label</th>\n",
       "    </tr>\n",
       "  </thead>\n",
       "  <tbody>\n",
       "    <tr>\n",
       "      <th>0</th>\n",
       "      <td>1</td>\n",
       "      <td>1</td>\n",
       "      <td>1</td>\n",
       "      <td>13</td>\n",
       "      <td>2</td>\n",
       "      <td>4</td>\n",
       "      <td>2</td>\n",
       "      <td>3</td>\n",
       "      <td>1</td>\n",
       "      <td>12</td>\n",
       "      <td>0</td>\n",
       "    </tr>\n",
       "    <tr>\n",
       "      <th>1</th>\n",
       "      <td>3</td>\n",
       "      <td>12</td>\n",
       "      <td>3</td>\n",
       "      <td>2</td>\n",
       "      <td>3</td>\n",
       "      <td>11</td>\n",
       "      <td>4</td>\n",
       "      <td>5</td>\n",
       "      <td>2</td>\n",
       "      <td>5</td>\n",
       "      <td>1</td>\n",
       "    </tr>\n",
       "    <tr>\n",
       "      <th>2</th>\n",
       "      <td>1</td>\n",
       "      <td>9</td>\n",
       "      <td>4</td>\n",
       "      <td>6</td>\n",
       "      <td>1</td>\n",
       "      <td>4</td>\n",
       "      <td>3</td>\n",
       "      <td>2</td>\n",
       "      <td>3</td>\n",
       "      <td>9</td>\n",
       "      <td>1</td>\n",
       "    </tr>\n",
       "    <tr>\n",
       "      <th>3</th>\n",
       "      <td>1</td>\n",
       "      <td>4</td>\n",
       "      <td>3</td>\n",
       "      <td>13</td>\n",
       "      <td>2</td>\n",
       "      <td>13</td>\n",
       "      <td>2</td>\n",
       "      <td>1</td>\n",
       "      <td>3</td>\n",
       "      <td>6</td>\n",
       "      <td>1</td>\n",
       "    </tr>\n",
       "    <tr>\n",
       "      <th>4</th>\n",
       "      <td>3</td>\n",
       "      <td>10</td>\n",
       "      <td>2</td>\n",
       "      <td>7</td>\n",
       "      <td>1</td>\n",
       "      <td>2</td>\n",
       "      <td>2</td>\n",
       "      <td>11</td>\n",
       "      <td>4</td>\n",
       "      <td>9</td>\n",
       "      <td>0</td>\n",
       "    </tr>\n",
       "  </tbody>\n",
       "</table>\n",
       "</div>"
      ],
      "text/plain": [
       "   S1  C1  S2  C2  S3  C3  S4  C4  S5  C5  label\n",
       "0   1   1   1  13   2   4   2   3   1  12      0\n",
       "1   3  12   3   2   3  11   4   5   2   5      1\n",
       "2   1   9   4   6   1   4   3   2   3   9      1\n",
       "3   1   4   3  13   2  13   2   1   3   6      1\n",
       "4   3  10   2   7   1   2   2  11   4   9      0"
      ]
     },
     "execution_count": 4,
     "metadata": {},
     "output_type": "execute_result"
    }
   ],
   "source": [
    "train_data.head()"
   ]
  },
  {
   "cell_type": "code",
   "execution_count": 21,
   "metadata": {},
   "outputs": [],
   "source": [
    "def hand_check(hand_data):\n",
    "    '''\n",
    "        0: Nothing in hand; not a recognized poker hand \n",
    "        1: One pair; one pair of equal ranks within five cards\n",
    "        2: Two pairs; two pairs of equal ranks within five cards\n",
    "        3: Three of a kind; three equal ranks within five cards\n",
    "        4: Straight; five cards, sequentially ranked with no gaps\n",
    "        5: Flush; five cards with the same suit\n",
    "        6: Full house; pair + different rank three of a kind\n",
    "        7: Four of a kind; four equal ranks within five cards\n",
    "        8: Straight flush; straight + flush\n",
    "        9: Royal flush; {Ace, King, Queen, Jack, Ten} + flush\n",
    "    '''\n",
    "    val = 0\n",
    "    \n",
    "    suits = []\n",
    "    ranks = []\n",
    "    \n",
    "    for i in range(0, 10, 2):\n",
    "        suits.append(hand_data[i])\n",
    "        ranks.append(hand_data[i+1])\n",
    "        \n",
    "    suits = np.array(suits)\n",
    "    ranks = np.array(ranks)\n",
    "    \n",
    "    uniq_r, counts_r = np.unique(ranks, return_counts=True)\n",
    "    uniq_s, counts_s = np.unique(suits, return_counts=True)\n",
    "    \n",
    "    #checking for one pair, two pairs, three of a kind and four of a kind\n",
    "    cnt = 0\n",
    "    for i in range(len(counts_r)):\n",
    "        if counts_r[i] > 1:\n",
    "            cnt += 1\n",
    "            if counts_r[i] == 3:\n",
    "                val = max(val, 3)\n",
    "            if counts_r[i] == 4:\n",
    "                val = max(val, 7)\n",
    "    if cnt == 1:\n",
    "        val = max(val, 1)\n",
    "    if cnt == 2:\n",
    "        val = max(val, 2)\n",
    "        \n",
    "    #checking for flush\n",
    "    if len(uniq_s) == 1:\n",
    "        val = max(val, 5)\n",
    "    \n",
    "    #checking for straight, straight flush and royal flush\n",
    "    check = 1\n",
    "    check2 = 0\n",
    "    sorted_uniq_r = sorted(uniq_r)\n",
    "    if len(uniq_r) == 5:\n",
    "        for i in range(1, 5):\n",
    "            if sorted_uniq_r[i] != sorted_uniq_r[i-1]+1:\n",
    "                check = 0\n",
    "        if sorted_uniq_r[0] == 1:\n",
    "            if sorted_uniq_r[1] == 10 and sorted_uniq_r[2] == 11 and sorted_uniq_r[3] == 12 and sorted_uniq_r[4] == 13:\n",
    "                check2 = 1\n",
    "            \n",
    "        if check == 1 or check2 == 1:\n",
    "            val = max(val, 4)\n",
    "            if len(uniq_s) == 1:\n",
    "                val = max(val, 8)\n",
    "                if check2 == 1:\n",
    "                    val = max(val, 9)\n",
    "                    \n",
    "    #checking for full house\n",
    "    cnt2 = 0\n",
    "    cnt3 = 0\n",
    "    for i in range(len(counts_r)):\n",
    "        if counts_r[i] == 2:\n",
    "            cnt2 = 1\n",
    "        if counts_r[i] == 3:\n",
    "            cnt3 = 1\n",
    "    if cnt3 == cnt2 and cnt2 == 1:\n",
    "        val = max(val, 6)\n",
    "        \n",
    "    return val"
   ]
  },
  {
   "cell_type": "code",
   "execution_count": 22,
   "metadata": {},
   "outputs": [
    {
     "data": {
      "text/plain": [
       "(1000000, 11)"
      ]
     },
     "execution_count": 22,
     "metadata": {},
     "output_type": "execute_result"
    }
   ],
   "source": [
    "# row = np.array(train_data.iloc[100,:])\n",
    "# print(row, row[0:10])\n",
    "# hand_check(row[0:10])\n",
    "train_data.shape"
   ]
  },
  {
   "cell_type": "code",
   "execution_count": 26,
   "metadata": {},
   "outputs": [],
   "source": [
    "def run_model(data_frame, mode='train'):\n",
    "    rows = data_frame.shape[0]\n",
    "    \n",
    "    res = []\n",
    "    \n",
    "    for i in tqdm(range(rows)):\n",
    "        res.append(hand_check(np.array(data_frame.iloc[i, :])[0:10]))\n",
    "    \n",
    "    if mode == 'train':\n",
    "        acc = 0\n",
    "        for i in range(rows):\n",
    "            if res[i] == np.array(data_frame.iloc[i, :])[10]:\n",
    "                acc += 1\n",
    "            \n",
    "        return res, acc/rows\n",
    "    elif mode == 'test':\n",
    "        return res"
   ]
  },
  {
   "cell_type": "code",
   "execution_count": 24,
   "metadata": {},
   "outputs": [
    {
     "name": "stderr",
     "output_type": "stream",
     "text": [
      "100%|██████████| 1000000/1000000 [05:45<00:00, 2897.90it/s]\n"
     ]
    }
   ],
   "source": [
    "res, acc = run_model(train_data)"
   ]
  },
  {
   "cell_type": "code",
   "execution_count": 25,
   "metadata": {},
   "outputs": [
    {
     "data": {
      "text/plain": [
       "1.0"
      ]
     },
     "execution_count": 25,
     "metadata": {},
     "output_type": "execute_result"
    }
   ],
   "source": [
    "acc"
   ]
  },
  {
   "cell_type": "code",
   "execution_count": 28,
   "metadata": {},
   "outputs": [
    {
     "name": "stderr",
     "output_type": "stream",
     "text": [
      "100%|██████████| 25010/25010 [00:05<00:00, 4237.64it/s]\n"
     ]
    }
   ],
   "source": [
    "test_data_path = '../pkhnd/55afe0ff-5708-4005-9836-ecd85c695595_test.csv'\n",
    "test_data = pd.read_csv(test_data_path)\n",
    "submission = run_model(test_data, mode='test')"
   ]
  },
  {
   "cell_type": "code",
   "execution_count": 29,
   "metadata": {},
   "outputs": [],
   "source": [
    "submission = pd.DataFrame(submission)\n",
    "submission.to_csv('submission.csv',header=['label'],index=False)"
   ]
  },
  {
   "cell_type": "code",
   "execution_count": null,
   "metadata": {},
   "outputs": [],
   "source": []
  }
 ],
 "metadata": {
  "kernelspec": {
   "display_name": "Python [conda env:cvwork]",
   "language": "python",
   "name": "conda-env-cvwork-py"
  },
  "language_info": {
   "codemirror_mode": {
    "name": "ipython",
    "version": 3
   },
   "file_extension": ".py",
   "mimetype": "text/x-python",
   "name": "python",
   "nbconvert_exporter": "python",
   "pygments_lexer": "ipython3",
   "version": "3.7.6"
  }
 },
 "nbformat": 4,
 "nbformat_minor": 4
}
